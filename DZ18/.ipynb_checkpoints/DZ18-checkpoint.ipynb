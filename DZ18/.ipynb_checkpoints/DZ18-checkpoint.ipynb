{
 "cells": [
  {
   "cell_type": "markdown",
   "metadata": {},
   "source": [
    "# Случайные величины"
   ]
  },
  {
   "cell_type": "markdown",
   "metadata": {},
   "source": [
    "Смоделировать игру против лотерейного автомата типа “777”. \n",
    "Игрок платит 1 руб., после чего выпадает случайное целое число, \n",
    "равномерно распределенное от 0 до 999. \n",
    "При некоторых значениях числа игрок получает выигрыш (см. справа)\n",
    "\n",
    "Выгодна ли игра игроку?\n",
    "\n",
    "Сколько в среднем приобретает\n",
    "или теряет игрок за одну игру?\n",
    "\n",
    "777: 200 руб.\n",
    "\n",
    "999: 100 руб.\n",
    "\n",
    "555: 50 руб.\n",
    "\n",
    "333: 15 руб.\n",
    "\n",
    "111: 10 руб.\n",
    "\n",
    "*77: 5 руб.\n",
    "\n",
    "**7: 3 руб.\n",
    "\n",
    "*00: 2 руб.\n",
    "\n",
    "**0: 1 руб.\n",
    "\n",
    "*– любая цифра\n",
    "\n",
    "Дополнительное задание повышенной сложности. \n",
    "Теоретически рассчитать средний выигрыш (проигрыш) \n",
    "и сравнить с результатами моделирования"
   ]
  },
  {
   "cell_type": "code",
   "execution_count": 1,
   "metadata": {},
   "outputs": [],
   "source": [
    "import numpy as np"
   ]
  },
  {
   "cell_type": "code",
   "execution_count": 21,
   "metadata": {},
   "outputs": [
    {
     "name": "stdout",
     "output_type": "stream",
     "text": [
      "Итог - игра не выгодна игроку, средний доход на одну игру: -15% (-0.156631 руб.)\n",
      "Успешных попыток было: 226565 раз\n",
      "Вероятность выигрыша (успешной попытки) составляет 22 %\n"
     ]
    }
   ],
   "source": [
    "trials = 1000000   # количество попыток\n",
    "cost = 1           # стоимость одной игры\n",
    "successes = 0      # количество успехов\n",
    "pris = 0           # выигрыш\n",
    "\n",
    "for i in range(trials):\n",
    "    random_score =int(''.join(map(str, np.random.randint(0, 9, 3))))\n",
    "    if random_score == 777:\n",
    "        pris += 200\n",
    "        successes += 1\n",
    "    elif random_score == 999:\n",
    "        pris += 100\n",
    "        successes += 1\n",
    "    elif random_score == 555:\n",
    "        pris += 50\n",
    "        successes += 1\n",
    "    elif random_score == 333:\n",
    "        pris += 15\n",
    "        successes += 1\n",
    "    elif random_score == 111:\n",
    "        pris += 10\n",
    "        successes += 1\n",
    "    elif random_score % 100 == 77:\n",
    "        pris += 5\n",
    "        successes += 1\n",
    "    elif random_score % 10 == 7:\n",
    "        pris += 3\n",
    "        successes += 1\n",
    "    elif random_score % 100 == 0:\n",
    "        pris += 2\n",
    "        successes += 1\n",
    "    elif random_score % 10 == 0:\n",
    "        pris += 1\n",
    "        successes += 1\n",
    "    else:\n",
    "        pass\n",
    "    if pris > i*cost:    # посмотрим, на какой попытке игра выгодна игроку и на сколько\n",
    "        print(f'Игра выгодна при {i}-ой попытке на {pris-i*cost} руб.' )\n",
    "    else:\n",
    "        pass\n",
    "if pris > trials*cost:  # выгодна ли игра в целом на trial количество попыток?\n",
    "    print()\n",
    "    print(f'Итог - игра выгодна игроку, средний доход на одну игру: {int((pris-cost*trials)*100/trials)}% ({(pris-cost*trials)/trials} руб.)')\n",
    "else:\n",
    "    print(f'Итог - игра не выгодна игроку, средний доход на одну игру: {int((pris-cost*trials)*100/trials)}% ({(pris-cost*trials)/trials} руб.)')\n",
    "print(f'Успешных попыток было: {successes} раз')\n",
    "print(f'Вероятность выигрыша (успешной попытки) составляет {int(successes*100/trials)} %')\n",
    "    \n",
    "    \n",
    "# Получаем, что игра не выгодна игроку"
   ]
  },
  {
   "cell_type": "code",
   "execution_count": null,
   "metadata": {},
   "outputs": [],
   "source": []
  }
 ],
 "metadata": {
  "kernelspec": {
   "display_name": "Python 3",
   "language": "python",
   "name": "python3"
  },
  "language_info": {
   "codemirror_mode": {
    "name": "ipython",
    "version": 3
   },
   "file_extension": ".py",
   "mimetype": "text/x-python",
   "name": "python",
   "nbconvert_exporter": "python",
   "pygments_lexer": "ipython3",
   "version": "3.8.3"
  }
 },
 "nbformat": 4,
 "nbformat_minor": 4
}
