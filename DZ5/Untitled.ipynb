{
 "cells": [
  {
   "cell_type": "markdown",
   "metadata": {},
   "source": [
    "# DZ5"
   ]
  },
  {
   "cell_type": "markdown",
   "metadata": {},
   "source": [
    "# Задача 1"
   ]
  },
  {
   "cell_type": "markdown",
   "metadata": {},
   "source": [
    "* Пункт 1. Пользователь по команде \"p\" может узнать владельца документа по его номеру"
   ]
  },
  {
   "cell_type": "code",
   "execution_count": 2,
   "metadata": {},
   "outputs": [],
   "source": [
    "documents = [\n",
    " {'type': 'passport', 'number': '2207 876234', 'name': 'Василий Гупкин'},\n",
    " {'type': 'invoice', 'number': '11-2', 'name': 'Геннадий Покемонов'},\n",
    " {'type': 'insurance', 'number': '10006', 'name': 'Аристарх Павлов'}\n",
    "]"
   ]
  },
  {
   "cell_type": "code",
   "execution_count": 11,
   "metadata": {},
   "outputs": [],
   "source": [
    "directories = {\n",
    " '1': ['2207 876234', '11-2'],\n",
    " '2': ['10006'],\n",
    " '3': []\n",
    "}   "
   ]
  },
  {
   "cell_type": "code",
   "execution_count": 9,
   "metadata": {},
   "outputs": [
    {
     "name": "stdout",
     "output_type": "stream",
     "text": [
      "Введите номер документа:\n",
      "10006\n",
      "\n",
      "Результат:\n",
      "Владелец документа: Аристарх Павлов\n",
      "\n",
      "Введите номер документа:\n",
      "123\n",
      "\n",
      "Результат:\n",
      "Документ не найден в базе\n",
      "\n",
      "Введите номер документа:\n",
      "q\n",
      "\n"
     ]
    },
    {
     "data": {
      "text/plain": [
       "'End'"
      ]
     },
     "execution_count": 9,
     "metadata": {},
     "output_type": "execute_result"
    }
   ],
   "source": [
    "def p1(documents):\n",
    "    while True:\n",
    "        print('Введите номер документа:')\n",
    "        doc = str(input())\n",
    "        print()\n",
    "        if doc == 'q':\n",
    "            return 'End'\n",
    "        else:\n",
    "            print('Результат:')\n",
    "            name_doc = {}\n",
    "            for i in documents:\n",
    "                name_doc.setdefault(i['number'], i['name'])\n",
    "            if doc in name_doc:\n",
    "                print(f'Владелец документа: {name_doc[doc]}')\n",
    "                print('')\n",
    "            else:\n",
    "                print('Документ не найден в базе')\n",
    "                print('')\n",
    "                \n",
    "p1([\n",
    " {'type': 'passport', 'number': '2207 876234', 'name': 'Василий Гупкин'},\n",
    " {'type': 'invoice', 'number': '11-2', 'name': 'Геннадий Покемонов'},\n",
    " {'type': 'insurance', 'number': '10006', 'name': 'Аристарх Павлов'}\n",
    "])\n",
    "       \n",
    "        \n",
    "    \n",
    "    "
   ]
  },
  {
   "cell_type": "code",
   "execution_count": 16,
   "metadata": {},
   "outputs": [
    {
     "name": "stdout",
     "output_type": "stream",
     "text": [
      "Введите команду:\n",
      "ds\n",
      "\n",
      "Введите номер полки:\n",
      "1\n",
      "\n",
      "Результат:\n",
      "На полке есть документы, удалите их перед удалением полки. Текущий перечень полок: 1, 2, 3\n",
      "Введите номер полки:\n",
      "4\n",
      "\n",
      "Результат:\n",
      "Такой полки не существует. Текущий перечень полок: 1, 2, 3\n",
      "Введите номер полки:\n",
      "3\n",
      "\n",
      "Результат:\n",
      "Полка удалена. Текущий перечень полок: 1, 2\n",
      "Введите номер полки:\n",
      "q\n",
      "\n",
      "Введите команду:\n",
      "q\n",
      "\n"
     ]
    },
    {
     "data": {
      "text/plain": [
       "'End'"
      ]
     },
     "execution_count": 16,
     "metadata": {},
     "output_type": "execute_result"
    }
   ],
   "source": [
    "def main(documents, directories):\n",
    "    while True:\n",
    "        print('Введите команду:')\n",
    "        comand = str(input())\n",
    "        print()\n",
    "        if comand == 'q':\n",
    "            return 'End'\n",
    "        elif comand == 'p':\n",
    "            p1(documents)\n",
    "        elif comand == 's':\n",
    "            s1(documents, directories)\n",
    "        elif comand == 'l':\n",
    "            l1(documents, directories)\n",
    "        elif comand == 'ads':\n",
    "            ads1(directories)\n",
    "        elif comand == 'ds':\n",
    "            ds1(directories)\n",
    "        elif comand == 'ad':\n",
    "            ad1(documents, directories)\n",
    "        else:\n",
    "            print('Введите команду заново: ')\n",
    "\n",
    "main([\n",
    " {'type': 'passport', 'number': '2207 876234', 'name': 'Василий Гупкин'},\n",
    " {'type': 'invoice', 'number': '11-2', 'name': 'Геннадий Покемонов'},\n",
    " {'type': 'insurance', 'number': '10006', 'name': 'Аристарх Павлов'}\n",
    "],\n",
    "{\n",
    " '1': ['2207 876234', '11-2'],\n",
    " '2': ['10006'],\n",
    " '3': []\n",
    "})\n",
    "\n",
    "\n"
   ]
  },
  {
   "cell_type": "markdown",
   "metadata": {},
   "source": [
    "* Пункт 2. Пользователь по команде \"s\" может по номеру документа узнать на какой полке он хранится "
   ]
  },
  {
   "cell_type": "code",
   "execution_count": 5,
   "metadata": {},
   "outputs": [
    {
     "name": "stdout",
     "output_type": "stream",
     "text": [
      "Введите номер документа:\n",
      "10006\n",
      "\n",
      "Результат:\n",
      "Документ хранится на полке: 2\n",
      "\n",
      "Введите номер документа:\n",
      "134\n",
      "\n",
      "Результат:\n",
      "Документ не найден в базе\n",
      "\n",
      "Введите номер документа:\n",
      "q\n",
      "\n"
     ]
    },
    {
     "data": {
      "text/plain": [
       "'End'"
      ]
     },
     "execution_count": 5,
     "metadata": {},
     "output_type": "execute_result"
    }
   ],
   "source": [
    "def s1(documents, directories):\n",
    "    while True:\n",
    "        print('Введите номер документа:')\n",
    "        doc = str(input())\n",
    "        print()\n",
    "        if doc == 'q':\n",
    "            return 'End'\n",
    "        else:\n",
    "            print('Результат:')\n",
    "            a = 0\n",
    "            for i, j in directories.items():\n",
    "                if doc in j:\n",
    "                    print(f'Документ хранится на полке: {i}')\n",
    "                    print()\n",
    "                    a += 1\n",
    "                else:\n",
    "                    pass\n",
    "            if a == 0:\n",
    "                print('Документ не найден в базе')\n",
    "                print('')\n",
    "                \n",
    "s1(\n",
    "[\n",
    " {'type': 'passport', 'number': '2207 876234', 'name': 'Василий Гупкин'},\n",
    " {'type': 'invoice', 'number': '11-2', 'name': 'Геннадий Покемонов'},\n",
    " {'type': 'insurance', 'number': '10006', 'name': 'Аристарх Павлов'}\n",
    "],\n",
    "{\n",
    " '1': ['2207 876234', '11-2'],\n",
    " '2': ['10006'],\n",
    " '3': []\n",
    "})\n"
   ]
  },
  {
   "cell_type": "code",
   "execution_count": 7,
   "metadata": {},
   "outputs": [
    {
     "name": "stdout",
     "output_type": "stream",
     "text": [
      "Введите команду:\n",
      "q\n",
      "\n"
     ]
    },
    {
     "data": {
      "text/plain": [
       "'End'"
      ]
     },
     "execution_count": 7,
     "metadata": {},
     "output_type": "execute_result"
    }
   ],
   "source": [
    "def main(documents, directories):\n",
    "    while True:\n",
    "        print('Введите команду:')\n",
    "        comand = str(input())\n",
    "        print()\n",
    "        if comand == 'q':\n",
    "            return 'End'\n",
    "        elif comand == 'p':\n",
    "            p1(documents)\n",
    "        elif comand == 's':\n",
    "            s1(documents, directories)\n",
    "        elif comand == 'l':\n",
    "            l1(documents, directories)\n",
    "        else:\n",
    "            print('Введите команду заново: ')\n",
    "\n",
    "main([\n",
    " {'type': 'passport', 'number': '2207 876234', 'name': 'Василий Гупкин'},\n",
    " {'type': 'invoice', 'number': '11-2', 'name': 'Геннадий Покемонов'},\n",
    " {'type': 'insurance', 'number': '10006', 'name': 'Аристарх Павлов'}\n",
    "],\n",
    "{\n",
    " '1': ['2207 876234', '11-2'],\n",
    " '2': ['10006'],\n",
    " '3': []\n",
    "})"
   ]
  },
  {
   "cell_type": "markdown",
   "metadata": {},
   "source": [
    "* Пункт 3. Пользователь по команде \"l\" может увидеть полную информацию по всем документам"
   ]
  },
  {
   "cell_type": "code",
   "execution_count": 5,
   "metadata": {},
   "outputs": [
    {
     "name": "stdout",
     "output_type": "stream",
     "text": [
      "№: 2207 876234, тип: passport, владелец: Василий Гупкин, полка хранения: 1\n",
      "№: 11-2, тип: invoice, владелец: Геннадий Покемонов, полка хранения: 1\n",
      "№: 10006, тип: insurance, владелец: Аристарх Павлов, полка хранения: 2\n"
     ]
    }
   ],
   "source": [
    "def l1(documents, directories):\n",
    "    for i in documents:\n",
    "            a, b, c = i['type'], i['number'], i['name']\n",
    "            for k, j in directories.items():\n",
    "                if b in j:\n",
    "                    n = int(k)\n",
    "            print(f'№: {b}, тип: {a}, владелец: {c}, полка хранения: {n}')\n",
    "    \n",
    "    \n",
    "l1(\n",
    "[{'type': 'passport', 'number': '2207 876234', 'name': 'Василий Гупкин'},\n",
    " {'type': 'invoice', 'number': '11-2', 'name': 'Геннадий Покемонов'},\n",
    " {'type': 'insurance', 'number': '10006', 'name': 'Аристарх Павлов'}],\n",
    "\n",
    "{'1': ['2207 876234', '11-2'],\n",
    " '2': ['10006'],\n",
    " '3': []}\n",
    ")"
   ]
  },
  {
   "cell_type": "markdown",
   "metadata": {},
   "source": [
    "* Пункт 4. Пользователь по команде \"ads\" может добавить новую полку"
   ]
  },
  {
   "cell_type": "code",
   "execution_count": 7,
   "metadata": {
    "scrolled": true
   },
   "outputs": [
    {
     "name": "stdout",
     "output_type": "stream",
     "text": [
      "Введите номер полки:\n",
      "1\n",
      "\n",
      "Результат:\n",
      "Такая полка уже существует. Текущий перечень полок: 1, 2, 3\n",
      "\n",
      "Введите номер полки:\n",
      "4\n",
      "\n",
      "Результат:\n",
      "Полка добавлена. Текущий перечень полок: 1, 2, 3, 4\n",
      "\n",
      "Введите номер полки:\n",
      "q\n",
      "\n"
     ]
    },
    {
     "data": {
      "text/plain": [
       "'End'"
      ]
     },
     "execution_count": 7,
     "metadata": {},
     "output_type": "execute_result"
    }
   ],
   "source": [
    "def ads1(directories):\n",
    "    while True:\n",
    "        print('Введите номер полки:')\n",
    "        line = str(input())\n",
    "        print()\n",
    "        if line == 'q':\n",
    "            return 'End'\n",
    "        else:\n",
    "            print('Результат:')\n",
    "            for k, i in directories.items():\n",
    "                for ii in i:\n",
    "                    pass\n",
    "            a = ', '.join(directories.keys())\n",
    "            if line in ii:\n",
    "                print(f'Такая полка уже существует. Текущий перечень полок: {a}')\n",
    "                print()\n",
    "            else:\n",
    "                directories[line] = []\n",
    "                a = ', '.join(directories.keys())\n",
    "                print(f'Полка добавлена. Текущий перечень полок: {a}')\n",
    "                print()\n",
    "                \n",
    "ads1(\n",
    "{'1': ['2207 876234', '11-2'],\n",
    " '2': ['10006'],\n",
    " '3': []}\n",
    ")                "
   ]
  },
  {
   "cell_type": "markdown",
   "metadata": {},
   "source": [
    "* Пункт 5. Пользователь по команде \"ds\" может удалить существующую полку из данных (только если она пустая)"
   ]
  },
  {
   "cell_type": "code",
   "execution_count": 15,
   "metadata": {},
   "outputs": [
    {
     "name": "stdout",
     "output_type": "stream",
     "text": [
      "Введите номер полки:\n",
      "1\n",
      "\n",
      "Результат:\n",
      "На полке есть документы, удалите их перед удалением полки. Текущий перечень полок: 1, 2, 3\n",
      "Введите номер полки:\n",
      "4\n",
      "\n",
      "Результат:\n",
      "Такой полки не существует. Текущий перечень полок: 1, 2, 3\n",
      "Введите номер полки:\n",
      "3\n",
      "\n",
      "Результат:\n",
      "Полка удалена. Текущий перечень полок: 1, 2\n",
      "Введите номер полки:\n",
      "q\n",
      "\n"
     ]
    },
    {
     "data": {
      "text/plain": [
       "'End'"
      ]
     },
     "execution_count": 15,
     "metadata": {},
     "output_type": "execute_result"
    }
   ],
   "source": [
    "def ds1(directories):\n",
    "    while True:\n",
    "        print('Введите номер полки:')\n",
    "        line = str(input())\n",
    "        print()\n",
    "        if line == 'q':\n",
    "            return 'End'\n",
    "        else:\n",
    "            print('Результат:')\n",
    "            if line in directories:\n",
    "                if directories[line] == []:\n",
    "                    del(directories[line])\n",
    "                    a = ', '.join(directories.keys())\n",
    "                    print(f'Полка удалена. Текущий перечень полок: {a}')\n",
    "                else:\n",
    "                    a = ', '.join(directories.keys())\n",
    "                    print(f'На полке есть документы, удалите их перед удалением полки. Текущий перечень полок: {a}')\n",
    "            else:\n",
    "                a = ', '.join(directories.keys())\n",
    "                print(f'Такой полки не существует. Текущий перечень полок: {a}')\n",
    "\n",
    "\n",
    "ds1(\n",
    "{'1': ['2207 876234', '11-2'],\n",
    " '2': ['10006'],\n",
    " '3': []}\n",
    ")            \n",
    "            "
   ]
  },
  {
   "cell_type": "code",
   "execution_count": 10,
   "metadata": {},
   "outputs": [
    {
     "name": "stdout",
     "output_type": "stream",
     "text": [
      "Введите номер документа:\n",
      "111\n",
      "Введите тип документа:\n",
      "pass\n",
      "Введите владельца документа:\n",
      "er\n",
      "Введите полку для хранения:\n",
      "3\n",
      "Документ добавлен. Текущий список документов:\n",
      "№: 2207 876234, тип: passport, владелец: Василий Гупкин, полка хранения: 1\n",
      "№: 11-2, тип: invoice, владелец: Геннадий Покемонов, полка хранения: 1\n",
      "№: 10006, тип: insurance, владелец: Аристарх Павлов, полка хранения: 2\n",
      "№: 111, тип: pass, владелец: er, полка хранения: 3\n",
      "Введите номер документа:\n",
      "234\n",
      "Введите тип документа:\n",
      "pass\n",
      "Введите владельца документа:\n",
      "fg\n",
      "Введите полку для хранения:\n",
      "5\n",
      "Такой полки не существует. Добавьте полку командой as.\n",
      "Текущий список документов:\n",
      "№: 2207 876234, тип: passport, владелец: Василий Гупкин, полка хранения: 1\n",
      "№: 11-2, тип: invoice, владелец: Геннадий Покемонов, полка хранения: 1\n",
      "№: 10006, тип: insurance, владелец: Аристарх Павлов, полка хранения: 2\n",
      "№: 111, тип: pass, владелец: er, полка хранения: 3\n",
      "\n",
      "Введите номер документа:\n",
      "q\n"
     ]
    },
    {
     "data": {
      "text/plain": [
       "'End'"
      ]
     },
     "execution_count": 10,
     "metadata": {},
     "output_type": "execute_result"
    }
   ],
   "source": [
    "def ad1(documents, directories):\n",
    "    while True:\n",
    "        print('Введите номер документа:')\n",
    "        doc = str(input())\n",
    "        if doc == 'q':\n",
    "            return 'End'\n",
    "        else:\n",
    "            print('Введите тип документа:')\n",
    "            tip = str(input())\n",
    "            print('Введите владельца документа:')\n",
    "            owner = str(input())\n",
    "            print('Введите полку для хранения:')\n",
    "            line = str(input())\n",
    "            if line in directories:\n",
    "                directories[line] = doc\n",
    "                documents.append({'type':tip, 'number':doc, 'name':owner})\n",
    "                a = ', '.join(directories.keys())\n",
    "                print('Документ добавлен. Текущий список документов:')\n",
    "                for i in documents:\n",
    "                    a, b, c = i['type'], i['number'], i['name']\n",
    "                    for k, j in directories.items():\n",
    "                        if b in j:\n",
    "                            n = int(k)\n",
    "                    print(f'№: {b}, тип: {a}, владелец: {c}, полка хранения: {n}')\n",
    "            else:\n",
    "                print('Такой полки не существует. Добавьте полку командой as.') \n",
    "                print('Текущий список документов:')\n",
    "                l1(documents, directories)\n",
    "                print()\n",
    "        \n",
    "            \n",
    "            \n",
    "            \n",
    "ad1([\n",
    " {'type': 'passport', 'number': '2207 876234', 'name': 'Василий Гупкин'},\n",
    " {'type': 'invoice', 'number': '11-2', 'name': 'Геннадий Покемонов'},\n",
    " {'type': 'insurance', 'number': '10006', 'name': 'Аристарх Павлов'}\n",
    "],\n",
    "{\n",
    " '1': ['2207 876234', '11-2'],\n",
    " '2': ['10006'],\n",
    " '3': []\n",
    "})          \n"
   ]
  },
  {
   "cell_type": "code",
   "execution_count": 5,
   "metadata": {},
   "outputs": [
    {
     "name": "stdout",
     "output_type": "stream",
     "text": [
      "Введите номер документа:\n",
      "45333\n",
      "Введите тип документа:\n",
      "pass\n",
      "Введите владельца документа:\n",
      "fjgj\n",
      "Введите полку для хранения:\n",
      "3\n",
      "Документ добавлен. Текущий список документов:\n",
      "№: 2207 876234, тип: passport, владелец: Василий Гупкин, полка хранения: 1\n",
      "№: 11-2, тип: invoice, владелец: Геннадий Покемонов, полка хранения: 1\n",
      "№: 10006, тип: insurance, владелец: Аристарх Павлов, полка хранения: 2\n",
      "№: 45333, тип: pass, владелец: fjgj, полка хранения: 3\n",
      "Введите номер документа:\n",
      "q\n"
     ]
    },
    {
     "data": {
      "text/plain": [
       "'End'"
      ]
     },
     "execution_count": 5,
     "metadata": {},
     "output_type": "execute_result"
    }
   ],
   "source": [
    "def ad1(documents, directories):\n",
    "    while True:\n",
    "        print('Введите номер документа:')\n",
    "        doc = str(input())\n",
    "        if doc == 'q':\n",
    "            return 'End'\n",
    "        else:\n",
    "            print('Введите тип документа:')\n",
    "            tip = str(input())\n",
    "            print('Введите владельца документа:')\n",
    "            owner = str(input())\n",
    "            print('Введите полку для хранения:')\n",
    "            line = str(input())\n",
    "            if line in directories:\n",
    "                directories[line] = doc\n",
    "                documents.append({'type':tip, 'number':doc, 'name':owner})\n",
    "                print('Документ добавлен. Текущий список документов:')\n",
    "                l1(documents, directories)\n",
    "            else:\n",
    "                print('Такой полки не существует. Добавьте полку командой as.') \n",
    "                print('Текущий список документов:')\n",
    "                l1(documents, directories)\n",
    "                print()\n",
    "        \n",
    "            \n",
    "            \n",
    "            \n",
    "ad1([\n",
    " {'type': 'passport', 'number': '2207 876234', 'name': 'Василий Гупкин'},\n",
    " {'type': 'invoice', 'number': '11-2', 'name': 'Геннадий Покемонов'},\n",
    " {'type': 'insurance', 'number': '10006', 'name': 'Аристарх Павлов'}\n",
    "],\n",
    "{\n",
    " '1': ['2207 876234', '11-2'],\n",
    " '2': ['10006'],\n",
    " '3': []\n",
    "})"
   ]
  },
  {
   "cell_type": "code",
   "execution_count": 10,
   "metadata": {
    "scrolled": true
   },
   "outputs": [
    {
     "name": "stdout",
     "output_type": "stream",
     "text": [
      "Введите номер документа:\n",
      "11-2\n",
      "Результат:\n",
      "\n",
      "Документ не найден в базе.\n",
      "Текущий список документов:\n",
      "\n",
      "№: 2207 876234, тип: passport, владелец: Василий Гупкин, полка хранения: 1\n",
      "№: 11-2, тип: invoice, владелец: Геннадий Покемонов, полка хранения: 1\n",
      "№: 10006, тип: insurance, владелец: Аристарх Павлов, полка хранения: 2\n",
      "\n",
      "Документ удален. \n",
      "Текущий список документов:\n",
      "\n"
     ]
    },
    {
     "ename": "UnboundLocalError",
     "evalue": "local variable 'n' referenced before assignment",
     "output_type": "error",
     "traceback": [
      "\u001b[1;31m---------------------------------------------------------------------------\u001b[0m",
      "\u001b[1;31mUnboundLocalError\u001b[0m                         Traceback (most recent call last)",
      "\u001b[1;32m<ipython-input-10-596d4b3eac3b>\u001b[0m in \u001b[0;36m<module>\u001b[1;34m\u001b[0m\n\u001b[0;32m     26\u001b[0m \u001b[1;33m\u001b[0m\u001b[0m\n\u001b[0;32m     27\u001b[0m \u001b[1;33m\u001b[0m\u001b[0m\n\u001b[1;32m---> 28\u001b[1;33m d1([\n\u001b[0m\u001b[0;32m     29\u001b[0m  \u001b[1;33m{\u001b[0m\u001b[1;34m'type'\u001b[0m\u001b[1;33m:\u001b[0m \u001b[1;34m'passport'\u001b[0m\u001b[1;33m,\u001b[0m \u001b[1;34m'number'\u001b[0m\u001b[1;33m:\u001b[0m \u001b[1;34m'2207 876234'\u001b[0m\u001b[1;33m,\u001b[0m \u001b[1;34m'name'\u001b[0m\u001b[1;33m:\u001b[0m \u001b[1;34m'Василий Гупкин'\u001b[0m\u001b[1;33m}\u001b[0m\u001b[1;33m,\u001b[0m\u001b[1;33m\u001b[0m\u001b[1;33m\u001b[0m\u001b[0m\n\u001b[0;32m     30\u001b[0m  \u001b[1;33m{\u001b[0m\u001b[1;34m'type'\u001b[0m\u001b[1;33m:\u001b[0m \u001b[1;34m'invoice'\u001b[0m\u001b[1;33m,\u001b[0m \u001b[1;34m'number'\u001b[0m\u001b[1;33m:\u001b[0m \u001b[1;34m'11-2'\u001b[0m\u001b[1;33m,\u001b[0m \u001b[1;34m'name'\u001b[0m\u001b[1;33m:\u001b[0m \u001b[1;34m'Геннадий Покемонов'\u001b[0m\u001b[1;33m}\u001b[0m\u001b[1;33m,\u001b[0m\u001b[1;33m\u001b[0m\u001b[1;33m\u001b[0m\u001b[0m\n",
      "\u001b[1;32m<ipython-input-10-596d4b3eac3b>\u001b[0m in \u001b[0;36md1\u001b[1;34m(documents, directories)\u001b[0m\n\u001b[0;32m     22\u001b[0m                         \u001b[1;32mdel\u001b[0m \u001b[1;33m(\u001b[0m\u001b[0mdocuments\u001b[0m\u001b[1;33m[\u001b[0m\u001b[0mint\u001b[0m\u001b[1;33m(\u001b[0m\u001b[0mk\u001b[0m\u001b[1;33m)\u001b[0m\u001b[1;33m]\u001b[0m\u001b[1;33m)\u001b[0m\u001b[1;33m\u001b[0m\u001b[1;33m\u001b[0m\u001b[0m\n\u001b[0;32m     23\u001b[0m                         \u001b[1;32mdel\u001b[0m \u001b[1;33m(\u001b[0m\u001b[0mdirectories\u001b[0m\u001b[1;33m[\u001b[0m\u001b[0mk\u001b[0m\u001b[1;33m]\u001b[0m\u001b[1;33m)\u001b[0m\u001b[1;33m\u001b[0m\u001b[1;33m\u001b[0m\u001b[0m\n\u001b[1;32m---> 24\u001b[1;33m                         \u001b[0ml1\u001b[0m\u001b[1;33m(\u001b[0m\u001b[0mdocuments\u001b[0m\u001b[1;33m,\u001b[0m \u001b[0mdirectories\u001b[0m\u001b[1;33m)\u001b[0m\u001b[1;33m\u001b[0m\u001b[1;33m\u001b[0m\u001b[0m\n\u001b[0m\u001b[0;32m     25\u001b[0m                         \u001b[0mprint\u001b[0m\u001b[1;33m(\u001b[0m\u001b[1;33m)\u001b[0m\u001b[1;33m\u001b[0m\u001b[1;33m\u001b[0m\u001b[0m\n\u001b[0;32m     26\u001b[0m \u001b[1;33m\u001b[0m\u001b[0m\n",
      "\u001b[1;32m<ipython-input-5-8dd14010d877>\u001b[0m in \u001b[0;36ml1\u001b[1;34m(documents, directories)\u001b[0m\n\u001b[0;32m      5\u001b[0m                 \u001b[1;32mif\u001b[0m \u001b[0mb\u001b[0m \u001b[1;32min\u001b[0m \u001b[0mj\u001b[0m\u001b[1;33m:\u001b[0m\u001b[1;33m\u001b[0m\u001b[1;33m\u001b[0m\u001b[0m\n\u001b[0;32m      6\u001b[0m                     \u001b[0mn\u001b[0m \u001b[1;33m=\u001b[0m \u001b[0mint\u001b[0m\u001b[1;33m(\u001b[0m\u001b[0mk\u001b[0m\u001b[1;33m)\u001b[0m\u001b[1;33m\u001b[0m\u001b[1;33m\u001b[0m\u001b[0m\n\u001b[1;32m----> 7\u001b[1;33m             \u001b[0mprint\u001b[0m\u001b[1;33m(\u001b[0m\u001b[1;34mf'№: {b}, тип: {a}, владелец: {c}, полка хранения: {n}'\u001b[0m\u001b[1;33m)\u001b[0m\u001b[1;33m\u001b[0m\u001b[1;33m\u001b[0m\u001b[0m\n\u001b[0m\u001b[0;32m      8\u001b[0m \u001b[1;33m\u001b[0m\u001b[0m\n\u001b[0;32m      9\u001b[0m \u001b[1;33m\u001b[0m\u001b[0m\n",
      "\u001b[1;31mUnboundLocalError\u001b[0m: local variable 'n' referenced before assignment"
     ]
    }
   ],
   "source": [
    "def d1(documents, directories):\n",
    "    while True:\n",
    "        print('Введите номер документа:')\n",
    "        doc = str(input())\n",
    "        if doc == 'q':\n",
    "            return 'End'\n",
    "        else:\n",
    "            print('Результат:')\n",
    "            print()\n",
    "            for k, i in directories.items():\n",
    "                for j in i:\n",
    "                    if doc not in j:\n",
    "                        print('Документ не найден в базе.')\n",
    "                        print('Текущий список документов:')\n",
    "                        print()\n",
    "                        l1(documents, directories)\n",
    "                        print()\n",
    "                    else:\n",
    "                        print('Документ удален. ')\n",
    "                        print('Текущий список документов:')\n",
    "                        print()\n",
    "                        del (documents[int(k)])\n",
    "                        del (directories[k])     \n",
    "                        l1(documents, directories)\n",
    "                        print()\n",
    "                    \n",
    "                    \n",
    "d1([\n",
    " {'type': 'passport', 'number': '2207 876234', 'name': 'Василий Гупкин'},\n",
    " {'type': 'invoice', 'number': '11-2', 'name': 'Геннадий Покемонов'},\n",
    " {'type': 'insurance', 'number': '10006', 'name': 'Аристарх Павлов'}\n",
    "],\n",
    "{\n",
    " '1': ['2207 876234', '11-2'],\n",
    " '2': ['10006'],\n",
    " '3': []\n",
    "})                    "
   ]
  },
  {
   "cell_type": "code",
   "execution_count": null,
   "metadata": {},
   "outputs": [],
   "source": []
  },
  {
   "cell_type": "code",
   "execution_count": null,
   "metadata": {},
   "outputs": [],
   "source": []
  },
  {
   "cell_type": "code",
   "execution_count": null,
   "metadata": {},
   "outputs": [],
   "source": []
  },
  {
   "cell_type": "code",
   "execution_count": null,
   "metadata": {},
   "outputs": [],
   "source": []
  }
 ],
 "metadata": {
  "kernelspec": {
   "display_name": "Python 3",
   "language": "python",
   "name": "python3"
  },
  "language_info": {
   "codemirror_mode": {
    "name": "ipython",
    "version": 3
   },
   "file_extension": ".py",
   "mimetype": "text/x-python",
   "name": "python",
   "nbconvert_exporter": "python",
   "pygments_lexer": "ipython3",
   "version": "3.8.3"
  }
 },
 "nbformat": 4,
 "nbformat_minor": 4
}
