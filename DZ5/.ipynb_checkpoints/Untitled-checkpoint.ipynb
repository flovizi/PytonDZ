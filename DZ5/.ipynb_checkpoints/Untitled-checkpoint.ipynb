{
 "cells": [
  {
   "cell_type": "markdown",
   "metadata": {},
   "source": [
    "# DZ5"
   ]
  },
  {
   "cell_type": "markdown",
   "metadata": {},
   "source": [
    "# Задача 1"
   ]
  },
  {
   "cell_type": "markdown",
   "metadata": {},
   "source": [
    "* Пункт 1. Пользователь по команде \"p\" может узнать владельца документа по его номеру"
   ]
  },
  {
   "cell_type": "code",
   "execution_count": 2,
   "metadata": {},
   "outputs": [],
   "source": [
    "documents = [\n",
    " {'type': 'passport', 'number': '2207 876234', 'name': 'Василий Гупкин'},\n",
    " {'type': 'invoice', 'number': '11-2', 'name': 'Геннадий Покемонов'},\n",
    " {'type': 'insurance', 'number': '10006', 'name': 'Аристарх Павлов'}\n",
    "]\n"
   ]
  },
  {
   "cell_type": "code",
   "execution_count": 2,
   "metadata": {},
   "outputs": [],
   "source": [
    "directories = {\n",
    " '1': ['2207 876234', '11-2'],\n",
    " '2': ['10006'],\n",
    " '3': []\n",
    "} \n"
   ]
  },
  {
   "cell_type": "code",
   "execution_count": 3,
   "metadata": {},
   "outputs": [
    {
     "name": "stdout",
     "output_type": "stream",
     "text": [
      "Введите номер документа:\n",
      "10006\n",
      "\n",
      "Результат:\n",
      "Владелец документа: Аристарх Павлов\n",
      "\n",
      "Введите номер документа:\n",
      "q\n",
      "\n"
     ]
    },
    {
     "data": {
      "text/plain": [
       "'End'"
      ]
     },
     "execution_count": 3,
     "metadata": {},
     "output_type": "execute_result"
    }
   ],
   "source": [
    "def owner(documents):\n",
    "    while True:\n",
    "        print('Введите номер документа:')\n",
    "        doc = input()\n",
    "        print()\n",
    "        if doc == 'q':\n",
    "            return 'End'\n",
    "        else:\n",
    "            print('Результат:')\n",
    "            name_doc = {}\n",
    "            for i in documents:\n",
    "                name_doc.setdefault(i['number'], i['name'])\n",
    "            if doc in name_doc:\n",
    "                print(f'Владелец документа: {name_doc[doc]}')\n",
    "                print('')\n",
    "            else:\n",
    "                print('Документ не найден в базе')\n",
    "                print('')\n",
    "                \n",
    "owner([\n",
    " {'type': 'passport', 'number': '2207 876234', 'name': 'Василий Гупкин'},\n",
    " {'type': 'invoice', 'number': '11-2', 'name': 'Геннадий Покемонов'},\n",
    " {'type': 'insurance', 'number': '10006', 'name': 'Аристарх Павлов'}\n",
    "])\n",
    "       \n",
    "        \n",
    "    \n",
    "    "
   ]
  },
  {
   "cell_type": "code",
   "execution_count": 5,
   "metadata": {},
   "outputs": [
    {
     "name": "stdout",
     "output_type": "stream",
     "text": [
      "Введите команду:\n",
      "10006\n",
      "\n",
      "Введите команду заново: \n",
      "Введите команду:\n",
      "d\n",
      "\n",
      "Введите номер документа:\n",
      "10006\n",
      "Результат:\n",
      "\n",
      "Документ удален. \n",
      "Текущий список документов:\n",
      "\n",
      "№: 2207 876234, тип: passport, владелец: Василий Гупкин, полка хранения: 1\n",
      "№: 11-2, тип: invoice, владелец: Геннадий Покемонов, полка хранения: 1\n",
      "\n",
      "{'1': ['2207 876234', '11-2'], '2': [], '3': []}\n",
      "Введите номер документа:\n",
      "q\n",
      "Введите команду:\n",
      "q\n",
      "\n"
     ]
    },
    {
     "data": {
      "text/plain": [
       "'End'"
      ]
     },
     "execution_count": 5,
     "metadata": {},
     "output_type": "execute_result"
    }
   ],
   "source": [
    "def main(documents, directories):\n",
    "    while True:\n",
    "        print('Введите команду:')\n",
    "        comand = input()\n",
    "        print()\n",
    "        if comand == 'q':\n",
    "            return 'End'\n",
    "        elif comand == 'p':\n",
    "            owner(documents)\n",
    "        elif comand == 's':\n",
    "            shelf(documents, directories)\n",
    "        elif comand == 'l':\n",
    "            information(documents, directories)\n",
    "        elif comand == 'ads':\n",
    "            new_shelf(directories)\n",
    "        elif comand == 'ds':\n",
    "            del_shelf(directories)\n",
    "        elif comand == 'ad':\n",
    "            add_new_doc(documents, directories)\n",
    "        elif comand == 'd':\n",
    "            del_doc(documents, directories)\n",
    "        else:\n",
    "            print('Введите команду заново: ')\n",
    "\n",
    "main([\n",
    " {'type': 'passport', 'number': '2207 876234', 'name': 'Василий Гупкин'},\n",
    " {'type': 'invoice', 'number': '11-2', 'name': 'Геннадий Покемонов'},\n",
    " {'type': 'insurance', 'number': '10006', 'name': 'Аристарх Павлов'}\n",
    "],\n",
    "{\n",
    " '1': ['2207 876234', '11-2'],\n",
    " '2': ['10006'],\n",
    " '3': []\n",
    "})\n",
    "\n",
    "\n"
   ]
  },
  {
   "cell_type": "markdown",
   "metadata": {},
   "source": [
    "* Пункт 2. Пользователь по команде \"s\" может по номеру документа узнать на какой полке он хранится "
   ]
  },
  {
   "cell_type": "code",
   "execution_count": 5,
   "metadata": {},
   "outputs": [
    {
     "name": "stdout",
     "output_type": "stream",
     "text": [
      "Введите номер документа:\n",
      "q\n",
      "\n"
     ]
    },
    {
     "data": {
      "text/plain": [
       "'End'"
      ]
     },
     "execution_count": 5,
     "metadata": {},
     "output_type": "execute_result"
    }
   ],
   "source": [
    "def shelf(documents, directories):\n",
    "    while True:\n",
    "        print('Введите номер документа:')\n",
    "        doc = input()\n",
    "        print()\n",
    "        if doc == 'q':\n",
    "            return 'End'\n",
    "        else:\n",
    "            print('Результат:')\n",
    "            a = 0\n",
    "            for i, j in directories.items():\n",
    "                if doc in j:\n",
    "                    print(f'Документ хранится на полке: {i}')\n",
    "                    print()\n",
    "                    a += 1\n",
    "                else:\n",
    "                    pass\n",
    "            if a == 0:\n",
    "                print('Документ не найден в базе')\n",
    "                print('')\n",
    "                \n",
    "shelf(\n",
    "[\n",
    " {'type': 'passport', 'number': '2207 876234', 'name': 'Василий Гупкин'},\n",
    " {'type': 'invoice', 'number': '11-2', 'name': 'Геннадий Покемонов'},\n",
    " {'type': 'insurance', 'number': '10006', 'name': 'Аристарх Павлов'}\n",
    "],\n",
    "{\n",
    " '1': ['2207 876234', '11-2'],\n",
    " '2': ['10006'],\n",
    " '3': []\n",
    "})\n"
   ]
  },
  {
   "cell_type": "markdown",
   "metadata": {},
   "source": [
    "* Пункт 3. Пользователь по команде \"l\" может увидеть полную информацию по всем документам"
   ]
  },
  {
   "cell_type": "code",
   "execution_count": 8,
   "metadata": {},
   "outputs": [
    {
     "name": "stdout",
     "output_type": "stream",
     "text": [
      "№: 2207 876234, тип: passport, владелец: Василий Гупкин, полка хранения: 1\n",
      "№: 11-2, тип: invoice, владелец: Геннадий Покемонов, полка хранения: 1\n",
      "№: 10006, тип: insurance, владелец: Аристарх Павлов, полка хранения: 2\n"
     ]
    }
   ],
   "source": [
    "def information(documents, directories):\n",
    "    for i in documents:\n",
    "            a, b, c = i['type'], i['number'], i['name']\n",
    "            for k, j in directories.items():\n",
    "                if b in j:\n",
    "                    n = int(k)\n",
    "            print(f'№: {b}, тип: {a}, владелец: {c}, полка хранения: {n}')\n",
    "    \n",
    "    \n",
    "information(\n",
    "[{'type': 'passport', 'number': '2207 876234', 'name': 'Василий Гупкин'},\n",
    " {'type': 'invoice', 'number': '11-2', 'name': 'Геннадий Покемонов'},\n",
    " {'type': 'insurance', 'number': '10006', 'name': 'Аристарх Павлов'}],\n",
    "\n",
    "{'1': ['2207 876234', '11-2'],\n",
    " '2': ['10006'],\n",
    " '3': []}\n",
    ")"
   ]
  },
  {
   "cell_type": "markdown",
   "metadata": {},
   "source": [
    "* Пункт 4. Пользователь по команде \"ads\" может добавить новую полку"
   ]
  },
  {
   "cell_type": "code",
   "execution_count": 6,
   "metadata": {},
   "outputs": [
    {
     "name": "stdout",
     "output_type": "stream",
     "text": [
      "Введите номер полки:\n",
      "1\n",
      "\n",
      "Результат:\n",
      "Такая полка уже существует. Текущий перечень полок: 1, 2, 3\n",
      "\n",
      "Введите номер полки:\n",
      "2\n",
      "\n",
      "Результат:\n",
      "Такая полка уже существует. Текущий перечень полок: 1, 2, 3\n",
      "\n",
      "Введите номер полки:\n",
      "3\n",
      "\n",
      "Результат:\n",
      "Такая полка уже существует. Текущий перечень полок: 1, 2, 3\n",
      "\n",
      "Введите номер полки:\n",
      "4\n",
      "\n",
      "Результат:\n",
      "Полка добавлена. Текущий перечень полок: 1, 2, 3, 4\n",
      "\n",
      "Введите номер полки:\n",
      "5\n",
      "\n",
      "Результат:\n",
      "Полка добавлена. Текущий перечень полок: 1, 2, 3, 4, 5\n",
      "\n",
      "Введите номер полки:\n",
      "6\n",
      "\n",
      "Результат:\n",
      "Полка добавлена. Текущий перечень полок: 1, 2, 3, 4, 5, 6\n",
      "\n",
      "Введите номер полки:\n",
      "7\n",
      "\n",
      "Результат:\n",
      "Полка добавлена. Текущий перечень полок: 1, 2, 3, 4, 5, 6, 7\n",
      "\n",
      "Введите номер полки:\n",
      "q\n",
      "\n"
     ]
    },
    {
     "data": {
      "text/plain": [
       "'End'"
      ]
     },
     "execution_count": 6,
     "metadata": {},
     "output_type": "execute_result"
    }
   ],
   "source": [
    "def new_shelf(directories):\n",
    "    while True:\n",
    "        print('Введите номер полки:')\n",
    "        line = input()\n",
    "        print()\n",
    "        if line == 'q':\n",
    "            return 'End'\n",
    "        else:\n",
    "            print('Результат:')\n",
    "            a = ', '.join(directories.keys())\n",
    "            if line in [k for k in directories.keys()]:\n",
    "                print(f'Такая полка уже существует. Текущий перечень полок: {a}')\n",
    "                print()\n",
    "            else:\n",
    "                directories[line] = []\n",
    "                a = ', '.join(directories.keys())\n",
    "                print(f'Полка добавлена. Текущий перечень полок: {a}')\n",
    "                print()\n",
    "                \n",
    "new_shelf(\n",
    "{'1': ['2207 876234', '11-2'],\n",
    " '2': ['10006'],\n",
    " '3': []}\n",
    ") "
   ]
  },
  {
   "cell_type": "markdown",
   "metadata": {},
   "source": [
    "* Пункт 5. Пользователь по команде \"ds\" может удалить существующую полку из данных (только если она пустая)"
   ]
  },
  {
   "cell_type": "code",
   "execution_count": 9,
   "metadata": {},
   "outputs": [
    {
     "name": "stdout",
     "output_type": "stream",
     "text": [
      "Введите номер полки:\n",
      "q\n",
      "\n"
     ]
    },
    {
     "data": {
      "text/plain": [
       "'End'"
      ]
     },
     "execution_count": 9,
     "metadata": {},
     "output_type": "execute_result"
    }
   ],
   "source": [
    "def del_shelf(directories):\n",
    "    while True:\n",
    "        print('Введите номер полки:')\n",
    "        line = input()\n",
    "        print()\n",
    "        if line == 'q':\n",
    "            return 'End'\n",
    "        else:\n",
    "            print('Результат:')\n",
    "            if line in directories:\n",
    "                if directories[line] == []:\n",
    "                    del(directories[line])\n",
    "                    a = ', '.join(directories.keys())\n",
    "                    print(f'Полка удалена. Текущий перечень полок: {a}')\n",
    "                else:\n",
    "                    a = ', '.join(directories.keys())\n",
    "                    print(f'На полке есть документы, удалите их перед удалением полки. Текущий перечень полок: {a}')\n",
    "            else:\n",
    "                a = ', '.join(directories.keys())\n",
    "                print(f'Такой полки не существует. Текущий перечень полок: {a}')\n",
    "\n",
    "\n",
    "del_shelf(\n",
    "{'1': ['2207 876234', '11-2'],\n",
    " '2': ['10006'],\n",
    " '3': []}\n",
    ")            \n",
    "            "
   ]
  },
  {
   "cell_type": "code",
   "execution_count": 10,
   "metadata": {},
   "outputs": [
    {
     "name": "stdout",
     "output_type": "stream",
     "text": [
      "Введите номер документа:\n",
      "56\n",
      "Введите тип документа:\n",
      "pass\n",
      "Введите владельца документа:\n",
      "Robby\n",
      "Введите полку для хранения:\n",
      "3\n",
      "Документ добавлен. Текущий список документов:\n",
      "№: 2207 876234, тип: passport, владелец: Василий Гупкин, полка хранения: 1\n",
      "№: 11-2, тип: invoice, владелец: Геннадий Покемонов, полка хранения: 1\n",
      "№: 10006, тип: insurance, владелец: Аристарх Павлов, полка хранения: 2\n",
      "№: 56, тип: pass, владелец: Robby, полка хранения: 3\n",
      "Введите номер документа:\n",
      "789\n",
      "Введите тип документа:\n",
      "pass\n",
      "Введите владельца документа:\n",
      "Rotty\n",
      "Введите полку для хранения:\n",
      "4\n",
      "Такой полки не существует. Добавьте полку командой as.\n",
      "Текущий список документов:\n",
      "№: 2207 876234, тип: passport, владелец: Василий Гупкин, полка хранения: 1\n",
      "№: 11-2, тип: invoice, владелец: Геннадий Покемонов, полка хранения: 1\n",
      "№: 10006, тип: insurance, владелец: Аристарх Павлов, полка хранения: 2\n",
      "№: 56, тип: pass, владелец: Robby, полка хранения: 3\n",
      "\n",
      "Введите номер документа:\n",
      "q\n"
     ]
    },
    {
     "data": {
      "text/plain": [
       "'End'"
      ]
     },
     "execution_count": 10,
     "metadata": {},
     "output_type": "execute_result"
    }
   ],
   "source": [
    "def ad1(documents, directories):   # второй вариант функции add_new_doc\n",
    "    while True:\n",
    "        print('Введите номер документа:')\n",
    "        doc = input()\n",
    "        if doc == 'q':\n",
    "            return 'End'\n",
    "        else:\n",
    "            print('Введите тип документа:')\n",
    "            tip = str(input())\n",
    "            print('Введите владельца документа:')\n",
    "            owner = str(input())\n",
    "            print('Введите полку для хранения:')\n",
    "            line = str(input())\n",
    "            if line in directories:\n",
    "                directories[line] = doc\n",
    "                documents.append({'type':tip, 'number':doc, 'name':owner})\n",
    "                a = ', '.join(directories.keys())\n",
    "                print('Документ добавлен. Текущий список документов:')\n",
    "                for i in documents:\n",
    "                    a, b, c = i['type'], i['number'], i['name']\n",
    "                    for k, j in directories.items():\n",
    "                        if b in j:\n",
    "                            n = int(k)\n",
    "                    print(f'№: {b}, тип: {a}, владелец: {c}, полка хранения: {n}')\n",
    "            else:\n",
    "                print('Такой полки не существует. Добавьте полку командой as.') \n",
    "                print('Текущий список документов:')\n",
    "                information(documents, directories)\n",
    "                print()\n",
    "        \n",
    "            \n",
    "            \n",
    "            \n",
    "ad1([\n",
    " {'type': 'passport', 'number': '2207 876234', 'name': 'Василий Гупкин'},\n",
    " {'type': 'invoice', 'number': '11-2', 'name': 'Геннадий Покемонов'},\n",
    " {'type': 'insurance', 'number': '10006', 'name': 'Аристарх Павлов'}\n",
    "],\n",
    "{\n",
    " '1': ['2207 876234', '11-2'],\n",
    " '2': ['10006'],\n",
    " '3': []\n",
    "})          \n"
   ]
  },
  {
   "cell_type": "code",
   "execution_count": 9,
   "metadata": {},
   "outputs": [
    {
     "name": "stdout",
     "output_type": "stream",
     "text": [
      "Введите номер документа:\n",
      "56\n",
      "Введите тип документа:\n",
      "passport\n",
      "Введите владельца документа:\n",
      "Abba\n",
      "Введите полку для хранения:\n",
      "3\n",
      "Документ добавлен. Текущий список документов:\n",
      "№: 2207 876234, тип: passport, владелец: Василий Гупкин, полка хранения: 1\n",
      "№: 11-2, тип: invoice, владелец: Геннадий Покемонов, полка хранения: 1\n",
      "№: 10006, тип: insurance, владелец: Аристарх Павлов, полка хранения: 2\n",
      "№: 56, тип: passport, владелец: Abba, полка хранения: 3\n",
      "Введите номер документа:\n",
      "6754\n",
      "Введите тип документа:\n",
      "passport\n",
      "Введите владельца документа:\n",
      "Emma\n",
      "Введите полку для хранения:\n",
      "4\n",
      "Такой полки не существует. Добавьте полку командой as.\n",
      "Текущий список документов:\n",
      "№: 2207 876234, тип: passport, владелец: Василий Гупкин, полка хранения: 1\n",
      "№: 11-2, тип: invoice, владелец: Геннадий Покемонов, полка хранения: 1\n",
      "№: 10006, тип: insurance, владелец: Аристарх Павлов, полка хранения: 2\n",
      "№: 56, тип: passport, владелец: Abba, полка хранения: 3\n",
      "\n",
      "Введите номер документа:\n",
      "q\n"
     ]
    },
    {
     "data": {
      "text/plain": [
       "'End'"
      ]
     },
     "execution_count": 9,
     "metadata": {},
     "output_type": "execute_result"
    }
   ],
   "source": [
    "def add_new_doc(documents, directories):\n",
    "    while True:\n",
    "        print('Введите номер документа:')\n",
    "        doc = input()\n",
    "        if doc == 'q':\n",
    "            return 'End'\n",
    "        else:\n",
    "            print('Введите тип документа:')\n",
    "            tip = str(input())\n",
    "            print('Введите владельца документа:')\n",
    "            owner = str(input())\n",
    "            print('Введите полку для хранения:')\n",
    "            line = str(input())\n",
    "            if line in directories:\n",
    "                directories[line] = doc\n",
    "                documents.append({'type':tip, 'number':doc, 'name':owner})\n",
    "                print('Документ добавлен. Текущий список документов:')\n",
    "                information(documents, directories)\n",
    "            else:\n",
    "                print('Такой полки не существует. Добавьте полку командой as.') \n",
    "                print('Текущий список документов:')\n",
    "                information(documents, directories)\n",
    "                print()\n",
    "        \n",
    "            \n",
    "            \n",
    "            \n",
    "add_new_doc([\n",
    " {'type': 'passport', 'number': '2207 876234', 'name': 'Василий Гупкин'},\n",
    " {'type': 'invoice', 'number': '11-2', 'name': 'Геннадий Покемонов'},\n",
    " {'type': 'insurance', 'number': '10006', 'name': 'Аристарх Павлов'}\n",
    "],\n",
    "{\n",
    " '1': ['2207 876234', '11-2'],\n",
    " '2': ['10006'],\n",
    " '3': []\n",
    "})"
   ]
  },
  {
   "cell_type": "code",
   "execution_count": 11,
   "metadata": {
    "scrolled": true
   },
   "outputs": [
    {
     "name": "stdout",
     "output_type": "stream",
     "text": [
      "Введите номер документа:\n",
      "17\n",
      "Результат:\n",
      "\n",
      "Документ не найден в базе.\n",
      "Текущий список документов:\n",
      "\n",
      "№: 2207 876234, тип: passport, владелец: Василий Гупкин, полка хранения: 1\n",
      "№: 11-2, тип: invoice, владелец: Геннадий Покемонов, полка хранения: 1\n",
      "№: 10006, тип: insurance, владелец: Аристарх Павлов, полка хранения: 2\n",
      "\n",
      "Введите номер документа:\n",
      "10006\n",
      "Результат:\n",
      "\n",
      "Документ удален. \n",
      "Текущий список документов:\n",
      "\n",
      "№: 2207 876234, тип: passport, владелец: Василий Гупкин, полка хранения: 1\n",
      "№: 11-2, тип: invoice, владелец: Геннадий Покемонов, полка хранения: 1\n",
      "\n",
      "{'1': ['2207 876234', '11-2'], '2': [], '3': []}\n",
      "Введите номер документа:\n",
      "q\n"
     ]
    },
    {
     "data": {
      "text/plain": [
       "'End'"
      ]
     },
     "execution_count": 11,
     "metadata": {},
     "output_type": "execute_result"
    }
   ],
   "source": [
    "def del_doc(documents, directories):\n",
    "    while True:\n",
    "        print('Введите номер документа:')\n",
    "        doc = input()\n",
    "        if doc == 'q':\n",
    "            return 'End'\n",
    "        else:\n",
    "            print('Результат:')\n",
    "            print()\n",
    "            flag = 0\n",
    "            for k, i in directories.items():\n",
    "                for ii in i:\n",
    "                    if doc in ii:\n",
    "                        flag = 1\n",
    "            if flag == 0:\n",
    "                print('Документ не найден в базе.')\n",
    "                print('Текущий список документов:')\n",
    "                print()\n",
    "                information(documents, directories)\n",
    "                print()\n",
    "            else:\n",
    "                print('Документ удален. ')\n",
    "                print('Текущий список документов:')\n",
    "                print()\n",
    "                for j in documents:\n",
    "                    if j['number']==doc:\n",
    "                        del (documents[documents.index(j)])\n",
    "                for wk, w in directories.items():\n",
    "                    if doc in directories[wk]:\n",
    "                        w.remove(doc)\n",
    "                        information(documents, directories)\n",
    "                        print()\n",
    "                        print(directories)\n",
    "                    \n",
    "del_doc([\n",
    " {'type': 'passport', 'number': '2207 876234', 'name': 'Василий Гупкин'},\n",
    " {'type': 'invoice', 'number': '11-2', 'name': 'Геннадий Покемонов'},\n",
    " {'type': 'insurance', 'number': '10006', 'name': 'Аристарх Павлов'}\n",
    "],\n",
    "{\n",
    " '1': ['2207 876234', '11-2'],\n",
    " '2': ['10006'],\n",
    " '3': []\n",
    "})                    "
   ]
  },
  {
   "cell_type": "code",
   "execution_count": null,
   "metadata": {},
   "outputs": [],
   "source": []
  },
  {
   "cell_type": "code",
   "execution_count": null,
   "metadata": {},
   "outputs": [],
   "source": []
  },
  {
   "cell_type": "code",
   "execution_count": null,
   "metadata": {},
   "outputs": [],
   "source": []
  },
  {
   "cell_type": "code",
   "execution_count": null,
   "metadata": {},
   "outputs": [],
   "source": []
  }
 ],
 "metadata": {
  "kernelspec": {
   "display_name": "Python 3",
   "language": "python",
   "name": "python3"
  },
  "language_info": {
   "codemirror_mode": {
    "name": "ipython",
    "version": 3
   },
   "file_extension": ".py",
   "mimetype": "text/x-python",
   "name": "python",
   "nbconvert_exporter": "python",
   "pygments_lexer": "ipython3",
   "version": "3.8.3"
  }
 },
 "nbformat": 4,
 "nbformat_minor": 4
}
