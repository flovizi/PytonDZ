{
 "cells": [
  {
   "cell_type": "code",
   "execution_count": 1,
   "metadata": {},
   "outputs": [
    {
     "name": "stdout",
     "output_type": "stream",
     "text": [
      "as\n"
     ]
    }
   ],
   "source": [
    "word = 'task'\n",
    "if len(word) % 2 != 0:\n",
    "    print(word[len(word) // 2])\n",
    "else:\n",
    "    print(word[((len(word) // 2) - 1):((len(word) // 2) + 1)])"
   ]
  },
  {
   "cell_type": "code",
   "execution_count": 3,
   "metadata": {},
   "outputs": [
    {
     "name": "stdout",
     "output_type": "stream",
     "text": [
      "Введите число 1\n",
      "Введите число 1.5\n",
      "Введите число 2.5\n",
      "Введите число 5\n",
      "Введите число 0\n",
      "Результат:\n",
      "10.0\n"
     ]
    }
   ],
   "source": [
    "x = float(input('Введите число ')) # float для случая введения чисел с плавающей точкой\n",
    "sum = x\n",
    "while x != 0:\n",
    "    x = float(input('Введите число ')) # float для случая введения чисел с плавающей точкой\n",
    "    sum += x\n",
    "else:\n",
    "    print('Результат:')\n",
    "    print(sum)"
   ]
  },
  {
   "cell_type": "code",
   "execution_count": 14,
   "metadata": {},
   "outputs": [
    {
     "name": "stdout",
     "output_type": "stream",
     "text": [
      "Идеальные пары:\n",
      "Alex и Emma\n",
      "Arthur и Kate\n",
      "John и Kira\n",
      "Peter и Liza\n",
      "Richard и Trisha\n"
     ]
    }
   ],
   "source": [
    "boys = ['Peter', 'Alex', 'John', 'Arthur', 'Richard']\n",
    "girls = ['Kate', 'Liza', 'Kira', 'Emma', 'Trisha']\n",
    "if len(boys) != len(girls):\n",
    "    print('Внимание! Кто-то может остаться без пары')\n",
    "else:\n",
    "    print('Идеальные пары:')\n",
    "    index = 0\n",
    "    while index < len(boys):\n",
    "        print(sorted(boys)[index], 'и', sorted(girls)[index])\n",
    "        index += 1\n"
   ]
  },
  {
   "cell_type": "code",
   "execution_count": 1,
   "metadata": {},
   "outputs": [
    {
     "name": "stdout",
     "output_type": "stream",
     "text": [
      "Thailand: 23.9 C\n",
      "Germany: 13.8 C\n",
      "Russia: 3.7 C\n",
      "Poland: 12.0 C\n"
     ]
    }
   ],
   "source": [
    "countries_temperature = [\n",
    "['Thailand', [75.2, 77, 78.8, 73.4, 68, 75.2, 77]],\n",
    "['Germany', [57.2, 55.4, 59, 59, 53.6]],\n",
    "['Russia', [35.6, 37.4, 39.2, 41, 42.8, 39.2, 35.6]],\n",
    "['Poland', [50, 50, 53.6, 57.2, 55.4, 55.4]]\n",
    "]\n",
    "for country in countries_temperature:\n",
    "    print(f'{country[0]}: {round((sum(country[1]) / len(country[1])-32) / 1.8, 1)} C')"
   ]
  },
  {
   "cell_type": "code",
   "execution_count": 4,
   "metadata": {},
   "outputs": [
    {
     "name": "stdout",
     "output_type": "stream",
     "text": [
      "Thailand: 23.9 C\n",
      "Germany: 13.8 C\n",
      "Russia: 3.7 C\n",
      "Poland: 12.0 C\n"
     ]
    }
   ],
   "source": [
    "countries_temperature = [\n",
    "['Thailand', [75.2, 77, 78.8, 73.4, 68, 75.2, 77]],\n",
    "['Germany', [57.2, 55.4, 59, 59, 53.6]],\n",
    "['Russia', [35.6, 37.4, 39.2, 41, 42.8, 39.2, 35.6]],\n",
    "['Poland', [50, 50, 53.6, 57.2, 55.4, 55.4]]\n",
    "]\n",
    "for country in countries_temperature:\n",
    "    print(f'{country[0]}: {((sum(country[1]) / len(country[1])-32) / 1.8):.1f} C')"
   ]
  },
  {
   "cell_type": "code",
   "execution_count": 5,
   "metadata": {},
   "outputs": [
    {
     "name": "stdout",
     "output_type": "stream",
     "text": [
      "Результат:\n",
      "Среднее количество просмотров на уникального пользователя: 23.25\n"
     ]
    }
   ],
   "source": [
    "stream = [\n",
    "'2018-01-01,user1,3',\n",
    "'2018-01-07,user1,4',\n",
    "'2018-03-29,user1,1',\n",
    "'2018-04-04,user1,13',\n",
    "'2018-01-05,user2,7',\n",
    "'2018-06-14,user3,4',\n",
    "'2018-07-02,user3,10',\n",
    "'2018-03-21,user4,19',\n",
    "'2018-03-22,user4,4',\n",
    "'2018-04-22,user4,8',\n",
    "'2018-05-03,user4,9',\n",
    "'2018-05-11,user4,11',\n",
    "]\n",
    "sum_= 0.0\n",
    "user = 0\n",
    "unique = []\n",
    "for row in range(len(stream)):\n",
    "    a = stream[row].split(',')\n",
    "    sum_ += float(a[2])\n",
    "    if a[1] not in unique:\n",
    "        unique.append(a[1])\n",
    "        user += 1\n",
    "print('Результат:')\n",
    "print(f'Среднее количество просмотров на уникального пользователя: {sum_/user}')"
   ]
  },
  {
   "cell_type": "code",
   "execution_count": 6,
   "metadata": {},
   "outputs": [
    {
     "name": "stdout",
     "output_type": "stream",
     "text": [
      "Результат:\n",
      "Среднее количество просмотров на уникального пользователя: 23.25\n"
     ]
    }
   ],
   "source": [
    "stream = [\n",
    "'2018-01-01,user1,3',\n",
    "'2018-01-07,user1,4',\n",
    "'2018-03-29,user1,1',\n",
    "'2018-04-04,user1,13',\n",
    "'2018-01-05,user2,7',\n",
    "'2018-06-14,user3,4',\n",
    "'2018-07-02,user3,10',\n",
    "'2018-03-21,user4,19',\n",
    "'2018-03-22,user4,4',\n",
    "'2018-04-22,user4,8',\n",
    "'2018-05-03,user4,9',\n",
    "'2018-05-11,user4,11',\n",
    "]\n",
    "sum_= 0.0\n",
    "user = 0\n",
    "unique = []\n",
    "for row in stream:\n",
    "    sum_ += float(row.split(',')[2])\n",
    "    if row.split(',')[1] not in unique:\n",
    "        unique.append(row.split(',')[1])\n",
    "        user += 1\n",
    "print('Результат:')\n",
    "print(f'Среднее количество просмотров на уникального пользователя: {sum_/user}')"
   ]
  },
  {
   "cell_type": "code",
   "execution_count": 8,
   "metadata": {},
   "outputs": [
    {
     "name": "stdout",
     "output_type": "stream",
     "text": [
      "Введите набор чисел, разделенных пробелом: 1 1 2 2 3 3 4 4 5 6 7 8\n",
      "1234\n"
     ]
    }
   ],
   "source": [
    "text = input('Введите набор чисел, разделенных пробелом: ').split(' ')\n",
    "unique_ = str()\n",
    "for num in text:\n",
    "    if text.count(num) > 1:\n",
    "        if num not in unique_:\n",
    "            unique_ += num\n",
    "print(unique_)"
   ]
  }
 ],
 "metadata": {
  "kernelspec": {
   "display_name": "Python 3",
   "language": "python",
   "name": "python3"
  },
  "language_info": {
   "codemirror_mode": {
    "name": "ipython",
    "version": 3
   },
   "file_extension": ".py",
   "mimetype": "text/x-python",
   "name": "python",
   "nbconvert_exporter": "python",
   "pygments_lexer": "ipython3",
   "version": "3.8.3"
  }
 },
 "nbformat": 4,
 "nbformat_minor": 4
}
