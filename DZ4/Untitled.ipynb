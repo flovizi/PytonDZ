{
 "cells": [
  {
   "cell_type": "code",
   "execution_count": 1,
   "metadata": {},
   "outputs": [
    {
     "data": {
      "text/plain": [
       "{15, 35, 54, 98, 119, 213}"
      ]
     },
     "execution_count": 1,
     "metadata": {},
     "output_type": "execute_result"
    }
   ],
   "source": [
    "  ids = {\n",
    "'user1': [213, 213, 213, 15, 213],\n",
    "'user2': [54, 54, 119, 119, 119],\n",
    "'user3': [213, 98, 98, 35]\n",
    "}\n",
    "a = set(sum(ids.values(),[]))\n",
    "a"
   ]
  },
  {
   "cell_type": "code",
   "execution_count": 21,
   "metadata": {},
   "outputs": [
    {
     "name": "stdout",
     "output_type": "stream",
     "text": [
      "Результат:\n",
      "\n",
      "\"Поисковых запросов, содержащих\" 1 \"слов(а):\" 5.56 %\n",
      "\"Поисковых запросов, содержащих\" 2 \"слов(а):\" 11.11 %\n",
      "\"Поисковых запросов, содержащих\" 3 \"слов(а):\" 16.67 %\n"
     ]
    }
   ],
   "source": [
    "queries1 = [\n",
    "'смотреть сериалы онлайн',\n",
    "'новости порта',\n",
    "'афиша кино',\n",
    "'курс доллара',\n",
    "'сериалы этим летом',\n",
    "'курс по питону',\n",
    "'сериалы про спорт',\n",
    "]\n",
    "w = {}\n",
    "for word in ' '.join(queries1).lower().split():\n",
    "    if word not in w:\n",
    "        w[word] = 1\n",
    "    else:\n",
    "        w[word] += 1\n",
    "print(\"Результат:\")\n",
    "print('')\n",
    "sum_total = sum(w.values())\n",
    "for x in set(w.values()):\n",
    "    print(f'\"Поисковых запросов, содержащих\" {x} \"слов(а):\" {(x/sum_total)*100:.2f} %')"
   ]
  },
  {
   "cell_type": "code",
   "execution_count": 2,
   "metadata": {},
   "outputs": [
    {
     "name": "stdout",
     "output_type": "stream",
     "text": [
      "Результат:\n",
      " \n"
     ]
    },
    {
     "data": {
      "text/plain": [
       "{'vk': {'revenue': 103, 'cost': 98, 'ROI': 5.1},\n",
       " 'yandex': {'revenue': 179, 'cost': 153, 'ROI': 16.99},\n",
       " 'facebook': {'revenue': 103, 'cost': 110, 'ROI': -6.36},\n",
       " 'adwords': {'revenue': 35, 'cost': 34, 'ROI': 2.94},\n",
       " 'twitter': {'revenue': 11, 'cost': 24, 'ROI': -54.17}}"
      ]
     },
     "execution_count": 2,
     "metadata": {},
     "output_type": "execute_result"
    }
   ],
   "source": [
    "results = {\n",
    "'vk': {'revenue': 103, 'cost': 98},\n",
    "'yandex': {'revenue': 179, 'cost': 153},\n",
    "'facebook': {'revenue': 103, 'cost': 110},\n",
    "'adwords': {'revenue': 35, 'cost': 34},\n",
    "'twitter': {'revenue': 11, 'cost': 24},\n",
    "}\n",
    "for values in results.values():\n",
    "    values.setdefault('ROI', round(((values['revenue']/values['cost'] - 1) * 100),2))\n",
    "print(\"Результат:\")\n",
    "print(' ')\n",
    "{key:values for key, values in results.items()}"
   ]
  },
  {
   "cell_type": "code",
   "execution_count": 1,
   "metadata": {},
   "outputs": [
    {
     "name": "stdout",
     "output_type": "stream",
     "text": [
      "Максимальный объем продаж на рекламном канале: vk\n"
     ]
    }
   ],
   "source": [
    "stats = {'facebook': 55, 'yandex': 115, 'vk': 120, 'google': 99, 'email': 42, 'ok': 98}\n",
    "x = {k for k, s in stats.items() if s == max(stats.values())}\n",
    "for i in x:\n",
    "    print(f'Максимальный объем продаж на рекламном канале: {i}')\n",
    " "
   ]
  },
  {
   "cell_type": "code",
   "execution_count": 2,
   "metadata": {},
   "outputs": [
    {
     "name": "stdout",
     "output_type": "stream",
     "text": [
      "{'2018-01-01': {'yandex': {'cpc': 100}}}\n"
     ]
    }
   ],
   "source": [
    "my_list = ['2018-01-01', 'yandex', 'cpc', 100]\n",
    "a = {}\n",
    "a = {my_list[-2]:my_list[-1]}\n",
    "for i in range(2, len(my_list)):\n",
    "    a = {my_list[-i-1]:a}\n",
    "print(a)"
   ]
  },
  {
   "cell_type": "code",
   "execution_count": 3,
   "metadata": {},
   "outputs": [
    {
     "name": "stdout",
     "output_type": "stream",
     "text": [
      "Введите количество порций:\n",
      " 3\n",
      "Результат:\n",
      " \n",
      "сыр 210 гр\n",
      "томаты 120 гр\n",
      "огурцы 60 гр\n",
      "маслины 30 гр\n",
      "оливковое масло 60 мл\n",
      "салат 30 гр\n",
      "перец 60 гр\n",
      "колбаса 90 гр\n",
      "бекон 90 гр\n",
      "оливки 30 гр\n",
      "тесто 300 гр\n",
      "лимон 3 шт\n",
      "вода 600 мл\n",
      "сахар 30 гр\n",
      "лайм 60 гр\n"
     ]
    }
   ],
   "source": [
    "cook_book = {\n",
    "'салат': [\n",
    "{'ingridient_name': 'сыр', 'quantity': 50, 'measure': 'гр'},\n",
    "{'ingridient_name': 'томаты', 'quantity': 20, 'measure': 'гр'},\n",
    "{'ingridient_name': 'огурцы', 'quantity': 20, 'measure': 'гр'},\n",
    "{'ingridient_name': 'маслины', 'quantity': 10, 'measure': 'гр'},\n",
    "{'ingridient_name': 'оливковое масло', 'quantity': 20, 'measure': 'мл'},\n",
    "{'ingridient_name': 'салат', 'quantity': 10, 'measure': 'гр'},\n",
    "{'ingridient_name': 'перец', 'quantity': 20, 'measure': 'гр'}\n",
    "],\n",
    "'пицца': [\n",
    "{'ingridient_name': 'сыр', 'quantity': 20, 'measure': 'гр'},\n",
    "{'ingridient_name': 'колбаса', 'quantity': 30, 'measure': 'гр'},\n",
    "{'ingridient_name': 'бекон', 'quantity': 30, 'measure': 'гр'},\n",
    "{'ingridient_name': 'оливки', 'quantity': 10, 'measure': 'гр'},\n",
    "{'ingridient_name': 'томаты', 'quantity': 20, 'measure': 'гр'},\n",
    "{'ingridient_name': 'тесто', 'quantity': 100, 'measure': 'гр'},\n",
    "],\n",
    "'лимонад': [\n",
    "{'ingridient_name': 'лимон', 'quantity': 1, 'measure': 'шт'},\n",
    "{'ingridient_name': 'вода', 'quantity': 200, 'measure': 'мл'},\n",
    "{'ingridient_name': 'сахар', 'quantity': 10, 'measure': 'гр'},\n",
    "{'ingridient_name': 'лайм', 'quantity': 20, 'measure': 'гр'},\n",
    "]\n",
    "}\n",
    "print('Введите количество порций:')\n",
    "person = int(input(' '))\n",
    "print('Результат:')\n",
    "print(' ')\n",
    "r = sum(cook_book.values(), [])\n",
    "a = {}\n",
    "q = {}\n",
    "for j in r:\n",
    "    if j['ingridient_name'] not in a:\n",
    "        a[j['ingridient_name']] = j['quantity'] * person\n",
    "    else:\n",
    "        a[j['ingridient_name']] += j['quantity'] * person\n",
    "    q.setdefault(j['ingridient_name'], j['measure'])\n",
    "t = {}\n",
    "for i, ii in q.items():\n",
    "    if i in a:\n",
    "        t[i] = str(a[i]) + ' ' + str(ii)\n",
    "for x, xx in t.items():\n",
    "    print(x, xx)"
   ]
  }
 ],
 "metadata": {
  "kernelspec": {
   "display_name": "Python 3",
   "language": "python",
   "name": "python3"
  },
  "language_info": {
   "codemirror_mode": {
    "name": "ipython",
    "version": 3
   },
   "file_extension": ".py",
   "mimetype": "text/x-python",
   "name": "python",
   "nbconvert_exporter": "python",
   "pygments_lexer": "ipython3",
   "version": "3.8.3"
  }
 },
 "nbformat": 4,
 "nbformat_minor": 4
}
